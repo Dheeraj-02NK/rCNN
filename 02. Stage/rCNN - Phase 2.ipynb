{
 "cells": [
  {
   "cell_type": "markdown",
   "id": "e7861221",
   "metadata": {},
   "source": [
    "#### Step 1: Import Libraries"
   ]
  },
  {
   "cell_type": "code",
   "execution_count": null,
   "id": "2e2e4a54",
   "metadata": {},
   "outputs": [],
   "source": [
    "import cv2\n",
    "import numpy as np\n",
    "import matplotlib.pyplot as plt\n",
    "from PIL import Image\n",
    "%matplotlib inline\n",
    "from IPython.display import Image\n",
    "import os\n",
    "from IPython.display import display\n",
    "from PIL import Image as PILImage"
   ]
  },
  {
   "cell_type": "markdown",
   "id": "fb4ee9fa",
   "metadata": {},
   "source": [
    "#### Step 2: First stage of rCNN"
   ]
  },
  {
   "cell_type": "code",
   "execution_count": 2,
   "id": "5be3fb72",
   "metadata": {},
   "outputs": [
    {
     "name": "stdout",
     "output_type": "stream",
     "text": [
      "Saved grid image: grid_0_0.jpg\n",
      "Saved grid image: grid_0_1.jpg\n",
      "Saved grid image: grid_1_0.jpg\n",
      "Saved grid image: grid_1_1.jpg\n",
      "Saved grid image: grid_2_0.jpg\n",
      "Saved grid image: grid_2_2.jpg\n"
     ]
    },
    {
     "data": {
      "image/png": "[encoded data removed]",
      "text/plain": [
       "<Figure size 640x480 with 9 Axes>"
      ]
     },
     "metadata": {},
     "output_type": "display_data"
    }
   ],
   "source": [
    "import cv2\n",
    "import numpy as np\n",
    "import matplotlib.pyplot as plt\n",
    "\n",
    "# Load the image\n",
    "img = cv2.imread(\"001.jpg\", cv2.IMREAD_COLOR)\n",
    "\n",
    "# Convert the image to grayscale\n",
    "img_gray = cv2.cvtColor(img, cv2.COLOR_BGR2GRAY)\n",
    "\n",
    "# Determine the grid size (in this case, 3x3 grids)\n",
    "grid_size = 3\n",
    "\n",
    "# Calculate the dimensions of each grid\n",
    "grid_height = img_gray.shape[0] // grid_size\n",
    "grid_width = img_gray.shape[1] // grid_size\n",
    "\n",
    "# Create a subplot for displaying the images\n",
    "fig, axs = plt.subplots(grid_size, grid_size)\n",
    "\n",
    "# Iterate over rows and columns to extract each grid\n",
    "for i in range(grid_size):\n",
    "    for j in range(grid_size):\n",
    "        y_start = i * grid_height\n",
    "        y_end = (i + 1) * grid_height\n",
    "        x_start = j * grid_width\n",
    "        x_end = (j + 1) * grid_width\n",
    "        grid = img_gray[y_start:y_end, x_start:x_end]\n",
    "\n",
    "        if np.any(grid < 255) and np.any(grid > 0):\n",
    "            # Save the individual grid image if it contains black and white pixels\n",
    "            grid_filename = f\"grid_{i}_{j}.jpg\"\n",
    "            cv2.imwrite(grid_filename, grid)\n",
    "            print(f\"Saved grid image: {grid_filename}\")\n",
    "            \n",
    "            # Display the grid image\n",
    "            axs[i, j].imshow(grid, cmap='gray')\n",
    "            axs[i, j].axis('off')\n",
    "\n",
    "# Show the grid images\n",
    "plt.show()\n"
   ]
  },
  {
   "cell_type": "markdown",
   "id": "e604143b",
   "metadata": {},
   "source": [
    "#### Step 3: Recursive CNN 3"
   ]
  },
  {
   "cell_type": "code",
   "execution_count": null,
   "id": "d8f0d353",
   "metadata": {},
   "outputs": [
    {
     "name": "stdout",
     "output_type": "stream",
     "text": [
      "Saved the grid with the highest white pixel count in iteration 0.\n"
     ]
    }
   ],
   "source": [
    "import cv2\n",
    "import numpy as np\n",
    "\n",
    "# Load the original image\n",
    "img = cv2.imread(\"004.jpg\", cv2.IMREAD_COLOR)\n",
    "\n",
    "# Initialize a flag to check if there's white in the corners\n",
    "white_in_corners = False\n",
    "\n",
    "# Define the corner pixels\n",
    "corner_pixels = [(0, 0), (img.shape[0] - 1, img.shape[1] - 1)]\n",
    "\n",
    "highest_white_pixel_count = 0\n",
    "best_grid = None\n",
    "iteration = 0\n",
    "all_white_grid = False\n",
    "\n",
    "while not white_in_corners:\n",
    "    # Convert the image to grayscale\n",
    "    img_gray = cv2.cvtColor(img, cv2.COLOR_BGR2GRAY)\n",
    "\n",
    "    # Determine the grid size (in this case, 3x3 grids)\n",
    "    grid_size = 3\n",
    "\n",
    "    # Calculate the dimensions of each grid\n",
    "    grid_height = img_gray.shape[0] // grid_size\n",
    "    grid_width = img_gray.shape[1] // grid_size\n",
    "\n",
    "    # Flag to check if there's white in the current iteration\n",
    "    white_in_iteration = False\n",
    "\n",
    "    # Iterate over rows and columns to extract each grid\n",
    "    for i in range(grid_size):\n",
    "        for j in range(grid_size):\n",
    "            y_start = i * grid_height\n",
    "            y_end = (i + 1) * grid_height\n",
    "            x_start = j * grid_width\n",
    "            x_end = (j + 1) * grid_width\n",
    "            grid = img_gray[y_start:y_end, x_start:x_end]\n",
    "\n",
    "            # Count the white pixels in the grid\n",
    "            white_pixel_count = np.sum(grid == 255)\n",
    "\n",
    "            if white_pixel_count > highest_white_pixel_count:\n",
    "                highest_white_pixel_count = white_pixel_count\n",
    "                best_grid = grid\n",
    "\n",
    "            # Check if the grid is all white\n",
    "            if white_pixel_count == grid_height * grid_width:\n",
    "                all_white_grid = True\n",
    "\n",
    "    if all_white_grid:\n",
    "        if iteration == 0:\n",
    "            # In the first iteration, save the original image before gridding\n",
    "            cv2.imwrite(\"original_image.jpg\", img)\n",
    "            print(\"Saved the original image before gridding.\")\n",
    "        break  # Terminate if all grids contain white pixels\n",
    "\n",
    "    # Save the grid with the highest white pixel count\n",
    "    if best_grid is not None:\n",
    "        cv2.imwrite(f\"best_grid_iteration_{iteration}.jpg\", best_grid)\n",
    "        print(f\"Saved the grid with the highest white pixel count in iteration {iteration}.\")\n",
    "        best_grid = None  # Reset the best grid\n",
    "\n",
    "    # If white found in this iteration, set white_in_corners to True\n",
    "    if any(img_gray[y, x] == 255 for y, x in corner_pixels):\n",
    "        white_in_corners = True\n",
    "\n",
    "    # Increment the iteration count\n",
    "    iteration += 1\n",
    "\n",
    "# Final message\n",
    "print(\"White pixel found in the corners.\")\n"
   ]
  },
  {
   "cell_type": "code",
   "execution_count": null,
   "id": "49400945",
   "metadata": {},
   "outputs": [],
   "source": [
    "Image"
   ]
  }
 ],
 "metadata": {
  "kernelspec": {
   "display_name": "Python 3 (ipykernel)",
   "language": "python",
   "name": "python3"
  },
  "language_info": {
   "codemirror_mode": {
    "name": "ipython",
    "version": 3
   },
   "file_extension": ".py",
   "mimetype": "text/x-python",
   "name": "python",
   "nbconvert_exporter": "python",
   "pygments_lexer": "ipython3",
   "version": "3.9.18"
  }
 },
 "nbformat": 4,
 "nbformat_minor": 5
}
